{
  "cells": [
    {
      "cell_type": "markdown",
      "metadata": {
        "id": "1kLUiEn80W-4"
      },
      "source": [
        "# Importation des bibliothèques"
      ]
    },
    {
      "cell_type": "code",
      "execution_count": 1,
      "metadata": {
        "id": "6BeVkrG20W-7"
      },
      "outputs": [],
      "source": [
        "import pandas as pd\n",
        "import numpy as np\n",
        "import re\n",
        "import nltk\n",
        "from nltk.corpus import stopwords\n",
        "from numpy import array\n",
        "from keras.preprocessing.text import one_hot\n",
        "# from keras_preprocessing.sequence import pad_sequences\n",
        "from keras.models import Sequential\n",
        "# from keras.layers.core import Activation, Dropout, Dense\n",
        "from keras.utils import pad_sequences\n",
        "from keras.layers import Activation, Dropout, Dense\n",
        "from keras.layers import Flatten\n",
        "from keras.layers import Conv1D\n",
        "from keras.layers import GlobalMaxPooling1D\n",
        "from keras.layers import LSTM, Embedding\n",
        "\n",
        "from sklearn.model_selection import train_test_split\n",
        "from keras.preprocessing.text import Tokenizer"
      ]
    },
    {
      "cell_type": "markdown",
      "metadata": {
        "id": "Ng_3MCSF0W--"
      },
      "source": [
        "# Importation du dataset"
      ]
    },
    {
      "cell_type": "code",
      "execution_count": null,
      "metadata": {
        "id": "YDnXOIcO0ZZG"
      },
      "outputs": [],
      "source": [
        "!wget https://raw.githubusercontent.com/Ankit152/IMDB-sentiment-analysis/master/IMDB-Dataset.csv"
      ]
    },
    {
      "cell_type": "code",
      "execution_count": 2,
      "metadata": {
        "id": "DBrefONS0W-_"
      },
      "outputs": [],
      "source": [
        "imdb= pd.read_csv(\"IMDB-Dataset.csv\")"
      ]
    },
    {
      "cell_type": "code",
      "execution_count": 5,
      "metadata": {
        "colab": {
          "base_uri": "https://localhost:8080/",
          "height": 362
        },
        "id": "X4Ee96wg0W-_",
        "outputId": "a0648cbd-9457-49dd-f5a6-3b57e0e74732"
      },
      "outputs": [
        {
          "name": "stdout",
          "output_type": "stream",
          "text": [
            "<class 'pandas.core.frame.DataFrame'>\n",
            "RangeIndex: 50000 entries, 0 to 49999\n",
            "Data columns (total 2 columns):\n",
            " #   Column     Non-Null Count  Dtype \n",
            "---  ------     --------------  ----- \n",
            " 0   review     50000 non-null  object\n",
            " 1   sentiment  50000 non-null  object\n",
            "dtypes: object(2)\n",
            "memory usage: 781.4+ KB\n"
          ]
        },
        {
          "data": {
            "application/vnd.google.colaboratory.intrinsic+json": {
              "summary": "{\n  \"name\": \"imdb\",\n  \"rows\": 50000,\n  \"fields\": [\n    {\n      \"column\": \"review\",\n      \"properties\": {\n        \"dtype\": \"string\",\n        \"num_unique_values\": 49582,\n        \"samples\": [\n          \"\\\"Soul Plane\\\" is a horrible attempt at comedy that only should appeal people with thick skulls, bloodshot eyes and furry pawns. <br /><br />The plot is not only incoherent but also non-existent, acting is mostly sub sub-par with a gang of highly moronic and dreadful characters thrown in for bad measure, jokes are often spotted miles ahead and almost never even a bit amusing. This movie lacks any structure and is full of racial stereotypes that must have seemed old even in the fifties, the only thing it really has going for it is some pretty ladies, but really, if you want that you can rent something from the \\\"Adult\\\" section. OK?<br /><br />I can hardly see anything here to recommend since you'll probably have a lot a better and productive time chasing rats with a sledgehammer or inventing waterproof teabags or whatever.<br /><br />2/10\",\n          \"Guest from the Future tells a fascinating story of time travel, friendship, battle of good and evil -- all with a small budget, child actors, and few special effects. Something for Spielberg and Lucas to learn from. ;) A sixth-grader Kolya \\\"Nick\\\" Gerasimov finds a time machine in the basement of a decrepit building and travels 100 years into the future. He discovers a near-perfect, utopian society where robots play guitars and write poetry, everyone is kind to each other and people enjoy everything technology has to offer. Alice is the daughter of a prominent scientist who invented a device called Mielophone that allows to read minds of humans and animals. The device can be put to both good and bad use, depending on whose hands it falls into. When two evil space pirates from Saturn who want to rule the universe attempt to steal Mielophone, it falls into the hands of 20th century school boy Nick. With the pirates hot on his tracks, he travels back to his time, followed by the pirates, and Alice. Chaos, confusion and funny situations follow as the luckless pirates try to blend in with the earthlings. Alice enrolls in the same school Nick goes to and demonstrates superhuman abilities in PE class. The catch is, Alice doesn't know what Nick looks like, while the pirates do. Also, the pirates are able to change their appearance and turn literally into anyone. (Hmm, I wonder if this is where James Cameron got the idea for Terminator...) Who gets to Nick -- and Mielophone -- first? Excellent plot, non-stop adventures, and great soundtrack. I wish Hollywood made kid movies like this one...\",\n          \"\\\"National Treasure\\\" (2004) is a thoroughly misguided hodge-podge of plot entanglements that borrow from nearly every cloak and dagger government conspiracy clich\\u00e9 that has ever been written. The film stars Nicholas Cage as Benjamin Franklin Gates (how precious is that, I ask you?); a seemingly normal fellow who, for no other reason than being of a lineage of like-minded misguided fortune hunters, decides to steal a 'national treasure' that has been hidden by the United States founding fathers. After a bit of subtext and background that plays laughably (unintentionally) like Indiana Jones meets The Patriot, the film degenerates into one misguided whimsy after another \\u0096 attempting to create a 'Stanley Goodspeed' regurgitation of Nicholas Cage and launch the whole convoluted mess forward with a series of high octane, but disconnected misadventures.<br /><br />The relevancy and logic to having George Washington and his motley crew of patriots burying a king's ransom someplace on native soil, and then, going through the meticulous plan of leaving clues scattered throughout U.S. currency art work, is something that director Jon Turteltaub never quite gets around to explaining. Couldn't Washington found better usage for such wealth during the start up of the country? Hence, we are left with a mystery built on top of an enigma that is already on shaky ground by the time Ben appoints himself the new custodian of this untold wealth. Ben's intentions are noble \\u0096 if confusing. He's set on protecting the treasure. For who and when?\\u0085your guess is as good as mine.<br /><br />But there are a few problems with Ben's crusade. First up, his friend, Ian Holmes (Sean Bean) decides that he can't wait for Ben to make up his mind about stealing the Declaration of Independence from the National Archives (oh, yeah \\u0096 brilliant idea!). Presumably, the back of that famous document holds the secret answer to the ultimate fortune. So Ian tries to kill Ben. The assassination attempt is, of course, unsuccessful, if overly melodramatic. It also affords Ben the opportunity to pick up, and pick on, the very sultry curator of the archives, Abigail Chase (Diane Kruger). She thinks Ben is clearly a nut \\u0096 at least at the beginning. But true to action/romance form, Abby's resolve melts quicker than you can say, \\\"is that the Hope Diamond?\\\" The film moves into full X-File-ish mode, as the FBI, mistakenly believing that Ben is behind the theft, retaliate in various benign ways that lead to a multi-layering of action sequences reminiscent of Mission Impossible meets The Fugitive. Honestly, don't those guys ever get 'intelligence' information that is correct? In the final analysis, \\\"National Treasure\\\" isn't great film making, so much as it's a patchwork rehash of tired old bits from other movies, woven together from scraps, the likes of which would make IL' Betsy Ross blush.<br /><br />The Buena Vista DVD delivers a far more generous treatment than this film is deserving of. The anamorphic widescreen picture exhibits a very smooth and finely detailed image with very rich colors, natural flesh tones, solid blacks and clean whites. The stylized image is also free of blemishes and digital enhancements. The audio is 5.1 and delivers a nice sonic boom to your side and rear speakers with intensity and realism. Extras include a host of promotional junket material that is rather deep and over the top in its explanation of how and why this film was made. If only, as an audience, we had had more clarification as to why Ben and co. were chasing after an illusive treasure, this might have been one good flick. Extras conclude with the theatrical trailer, audio commentary and deleted scenes. Not for the faint-hearted \\u0096 just the thick-headed.\"\n        ],\n        \"semantic_type\": \"\",\n        \"description\": \"\"\n      }\n    },\n    {\n      \"column\": \"sentiment\",\n      \"properties\": {\n        \"dtype\": \"category\",\n        \"num_unique_values\": 2,\n        \"samples\": [\n          \"negative\",\n          \"positive\"\n        ],\n        \"semantic_type\": \"\",\n        \"description\": \"\"\n      }\n    }\n  ]\n}",
              "type": "dataframe",
              "variable_name": "imdb"
            },
            "text/html": [
              "\n",
              "  <div id=\"df-30f89b2d-7a90-4771-8de9-afaeb820874d\" class=\"colab-df-container\">\n",
              "    <div>\n",
              "<style scoped>\n",
              "    .dataframe tbody tr th:only-of-type {\n",
              "        vertical-align: middle;\n",
              "    }\n",
              "\n",
              "    .dataframe tbody tr th {\n",
              "        vertical-align: top;\n",
              "    }\n",
              "\n",
              "    .dataframe thead th {\n",
              "        text-align: right;\n",
              "    }\n",
              "</style>\n",
              "<table border=\"1\" class=\"dataframe\">\n",
              "  <thead>\n",
              "    <tr style=\"text-align: right;\">\n",
              "      <th></th>\n",
              "      <th>review</th>\n",
              "      <th>sentiment</th>\n",
              "    </tr>\n",
              "  </thead>\n",
              "  <tbody>\n",
              "    <tr>\n",
              "      <th>0</th>\n",
              "      <td>One of the other reviewers has mentioned that ...</td>\n",
              "      <td>positive</td>\n",
              "    </tr>\n",
              "    <tr>\n",
              "      <th>1</th>\n",
              "      <td>A wonderful little production. &lt;br /&gt;&lt;br /&gt;The...</td>\n",
              "      <td>positive</td>\n",
              "    </tr>\n",
              "    <tr>\n",
              "      <th>2</th>\n",
              "      <td>I thought this was a wonderful way to spend ti...</td>\n",
              "      <td>positive</td>\n",
              "    </tr>\n",
              "    <tr>\n",
              "      <th>3</th>\n",
              "      <td>Basically there's a family where a little boy ...</td>\n",
              "      <td>negative</td>\n",
              "    </tr>\n",
              "    <tr>\n",
              "      <th>4</th>\n",
              "      <td>Petter Mattei's \"Love in the Time of Money\" is...</td>\n",
              "      <td>positive</td>\n",
              "    </tr>\n",
              "  </tbody>\n",
              "</table>\n",
              "</div>\n",
              "    <div class=\"colab-df-buttons\">\n",
              "\n",
              "  <div class=\"colab-df-container\">\n",
              "    <button class=\"colab-df-convert\" onclick=\"convertToInteractive('df-30f89b2d-7a90-4771-8de9-afaeb820874d')\"\n",
              "            title=\"Convert this dataframe to an interactive table.\"\n",
              "            style=\"display:none;\">\n",
              "\n",
              "  <svg xmlns=\"http://www.w3.org/2000/svg\" height=\"24px\" viewBox=\"0 -960 960 960\">\n",
              "    <path d=\"M120-120v-720h720v720H120Zm60-500h600v-160H180v160Zm220 220h160v-160H400v160Zm0 220h160v-160H400v160ZM180-400h160v-160H180v160Zm440 0h160v-160H620v160ZM180-180h160v-160H180v160Zm440 0h160v-160H620v160Z\"/>\n",
              "  </svg>\n",
              "    </button>\n",
              "\n",
              "  <style>\n",
              "    .colab-df-container {\n",
              "      display:flex;\n",
              "      gap: 12px;\n",
              "    }\n",
              "\n",
              "    .colab-df-convert {\n",
              "      background-color: #E8F0FE;\n",
              "      border: none;\n",
              "      border-radius: 50%;\n",
              "      cursor: pointer;\n",
              "      display: none;\n",
              "      fill: #1967D2;\n",
              "      height: 32px;\n",
              "      padding: 0 0 0 0;\n",
              "      width: 32px;\n",
              "    }\n",
              "\n",
              "    .colab-df-convert:hover {\n",
              "      background-color: #E2EBFA;\n",
              "      box-shadow: 0px 1px 2px rgba(60, 64, 67, 0.3), 0px 1px 3px 1px rgba(60, 64, 67, 0.15);\n",
              "      fill: #174EA6;\n",
              "    }\n",
              "\n",
              "    .colab-df-buttons div {\n",
              "      margin-bottom: 4px;\n",
              "    }\n",
              "\n",
              "    [theme=dark] .colab-df-convert {\n",
              "      background-color: #3B4455;\n",
              "      fill: #D2E3FC;\n",
              "    }\n",
              "\n",
              "    [theme=dark] .colab-df-convert:hover {\n",
              "      background-color: #434B5C;\n",
              "      box-shadow: 0px 1px 3px 1px rgba(0, 0, 0, 0.15);\n",
              "      filter: drop-shadow(0px 1px 2px rgba(0, 0, 0, 0.3));\n",
              "      fill: #FFFFFF;\n",
              "    }\n",
              "  </style>\n",
              "\n",
              "    <script>\n",
              "      const buttonEl =\n",
              "        document.querySelector('#df-30f89b2d-7a90-4771-8de9-afaeb820874d button.colab-df-convert');\n",
              "      buttonEl.style.display =\n",
              "        google.colab.kernel.accessAllowed ? 'block' : 'none';\n",
              "\n",
              "      async function convertToInteractive(key) {\n",
              "        const element = document.querySelector('#df-30f89b2d-7a90-4771-8de9-afaeb820874d');\n",
              "        const dataTable =\n",
              "          await google.colab.kernel.invokeFunction('convertToInteractive',\n",
              "                                                    [key], {});\n",
              "        if (!dataTable) return;\n",
              "\n",
              "        const docLinkHtml = 'Like what you see? Visit the ' +\n",
              "          '<a target=\"_blank\" href=https://colab.research.google.com/notebooks/data_table.ipynb>data table notebook</a>'\n",
              "          + ' to learn more about interactive tables.';\n",
              "        element.innerHTML = '';\n",
              "        dataTable['output_type'] = 'display_data';\n",
              "        await google.colab.output.renderOutput(dataTable, element);\n",
              "        const docLink = document.createElement('div');\n",
              "        docLink.innerHTML = docLinkHtml;\n",
              "        element.appendChild(docLink);\n",
              "      }\n",
              "    </script>\n",
              "  </div>\n",
              "\n",
              "\n",
              "<div id=\"df-dbac5dc2-072d-41f5-b9a1-9159aed15c48\">\n",
              "  <button class=\"colab-df-quickchart\" onclick=\"quickchart('df-dbac5dc2-072d-41f5-b9a1-9159aed15c48')\"\n",
              "            title=\"Suggest charts\"\n",
              "            style=\"display:none;\">\n",
              "\n",
              "<svg xmlns=\"http://www.w3.org/2000/svg\" height=\"24px\"viewBox=\"0 0 24 24\"\n",
              "     width=\"24px\">\n",
              "    <g>\n",
              "        <path d=\"M19 3H5c-1.1 0-2 .9-2 2v14c0 1.1.9 2 2 2h14c1.1 0 2-.9 2-2V5c0-1.1-.9-2-2-2zM9 17H7v-7h2v7zm4 0h-2V7h2v10zm4 0h-2v-4h2v4z\"/>\n",
              "    </g>\n",
              "</svg>\n",
              "  </button>\n",
              "\n",
              "<style>\n",
              "  .colab-df-quickchart {\n",
              "      --bg-color: #E8F0FE;\n",
              "      --fill-color: #1967D2;\n",
              "      --hover-bg-color: #E2EBFA;\n",
              "      --hover-fill-color: #174EA6;\n",
              "      --disabled-fill-color: #AAA;\n",
              "      --disabled-bg-color: #DDD;\n",
              "  }\n",
              "\n",
              "  [theme=dark] .colab-df-quickchart {\n",
              "      --bg-color: #3B4455;\n",
              "      --fill-color: #D2E3FC;\n",
              "      --hover-bg-color: #434B5C;\n",
              "      --hover-fill-color: #FFFFFF;\n",
              "      --disabled-bg-color: #3B4455;\n",
              "      --disabled-fill-color: #666;\n",
              "  }\n",
              "\n",
              "  .colab-df-quickchart {\n",
              "    background-color: var(--bg-color);\n",
              "    border: none;\n",
              "    border-radius: 50%;\n",
              "    cursor: pointer;\n",
              "    display: none;\n",
              "    fill: var(--fill-color);\n",
              "    height: 32px;\n",
              "    padding: 0;\n",
              "    width: 32px;\n",
              "  }\n",
              "\n",
              "  .colab-df-quickchart:hover {\n",
              "    background-color: var(--hover-bg-color);\n",
              "    box-shadow: 0 1px 2px rgba(60, 64, 67, 0.3), 0 1px 3px 1px rgba(60, 64, 67, 0.15);\n",
              "    fill: var(--button-hover-fill-color);\n",
              "  }\n",
              "\n",
              "  .colab-df-quickchart-complete:disabled,\n",
              "  .colab-df-quickchart-complete:disabled:hover {\n",
              "    background-color: var(--disabled-bg-color);\n",
              "    fill: var(--disabled-fill-color);\n",
              "    box-shadow: none;\n",
              "  }\n",
              "\n",
              "  .colab-df-spinner {\n",
              "    border: 2px solid var(--fill-color);\n",
              "    border-color: transparent;\n",
              "    border-bottom-color: var(--fill-color);\n",
              "    animation:\n",
              "      spin 1s steps(1) infinite;\n",
              "  }\n",
              "\n",
              "  @keyframes spin {\n",
              "    0% {\n",
              "      border-color: transparent;\n",
              "      border-bottom-color: var(--fill-color);\n",
              "      border-left-color: var(--fill-color);\n",
              "    }\n",
              "    20% {\n",
              "      border-color: transparent;\n",
              "      border-left-color: var(--fill-color);\n",
              "      border-top-color: var(--fill-color);\n",
              "    }\n",
              "    30% {\n",
              "      border-color: transparent;\n",
              "      border-left-color: var(--fill-color);\n",
              "      border-top-color: var(--fill-color);\n",
              "      border-right-color: var(--fill-color);\n",
              "    }\n",
              "    40% {\n",
              "      border-color: transparent;\n",
              "      border-right-color: var(--fill-color);\n",
              "      border-top-color: var(--fill-color);\n",
              "    }\n",
              "    60% {\n",
              "      border-color: transparent;\n",
              "      border-right-color: var(--fill-color);\n",
              "    }\n",
              "    80% {\n",
              "      border-color: transparent;\n",
              "      border-right-color: var(--fill-color);\n",
              "      border-bottom-color: var(--fill-color);\n",
              "    }\n",
              "    90% {\n",
              "      border-color: transparent;\n",
              "      border-bottom-color: var(--fill-color);\n",
              "    }\n",
              "  }\n",
              "</style>\n",
              "\n",
              "  <script>\n",
              "    async function quickchart(key) {\n",
              "      const quickchartButtonEl =\n",
              "        document.querySelector('#' + key + ' button');\n",
              "      quickchartButtonEl.disabled = true;  // To prevent multiple clicks.\n",
              "      quickchartButtonEl.classList.add('colab-df-spinner');\n",
              "      try {\n",
              "        const charts = await google.colab.kernel.invokeFunction(\n",
              "            'suggestCharts', [key], {});\n",
              "      } catch (error) {\n",
              "        console.error('Error during call to suggestCharts:', error);\n",
              "      }\n",
              "      quickchartButtonEl.classList.remove('colab-df-spinner');\n",
              "      quickchartButtonEl.classList.add('colab-df-quickchart-complete');\n",
              "    }\n",
              "    (() => {\n",
              "      let quickchartButtonEl =\n",
              "        document.querySelector('#df-dbac5dc2-072d-41f5-b9a1-9159aed15c48 button');\n",
              "      quickchartButtonEl.style.display =\n",
              "        google.colab.kernel.accessAllowed ? 'block' : 'none';\n",
              "    })();\n",
              "  </script>\n",
              "</div>\n",
              "    </div>\n",
              "  </div>\n"
            ],
            "text/plain": [
              "                                              review sentiment\n",
              "0  One of the other reviewers has mentioned that ...  positive\n",
              "1  A wonderful little production. <br /><br />The...  positive\n",
              "2  I thought this was a wonderful way to spend ti...  positive\n",
              "3  Basically there's a family where a little boy ...  negative\n",
              "4  Petter Mattei's \"Love in the Time of Money\" is...  positive"
            ]
          },
          "execution_count": 5,
          "metadata": {},
          "output_type": "execute_result"
        }
      ],
      "source": [
        "imdb.info()\n",
        "imdb.head()"
      ]
    },
    {
      "cell_type": "code",
      "execution_count": 6,
      "metadata": {
        "colab": {
          "base_uri": "https://localhost:8080/",
          "height": 564
        },
        "id": "RdJdZckY0W_B",
        "outputId": "4d6fbb67-f718-4442-db00-cceddab69733"
      },
      "outputs": [
        {
          "data": {
            "image/png": "[encoded data removed]",
            "text/plain": [
              "<Figure size 800x600 with 1 Axes>"
            ]
          },
          "metadata": {},
          "output_type": "display_data"
        }
      ],
      "source": [
        "import seaborn as sns\n",
        "import matplotlib.pyplot as plt\n",
        "\n",
        "plt.figure(figsize=(8, 6))\n",
        "sns.countplot(x='sentiment', data=imdb)\n",
        "plt.title('Class Distribution')\n",
        "plt.xlabel('Sentiment')\n",
        "plt.ylabel('Count')\n",
        "plt.show()\n"
      ]
    },
    {
      "cell_type": "code",
      "execution_count": 7,
      "metadata": {
        "colab": {
          "base_uri": "https://localhost:8080/"
        },
        "id": "RsqOexcr0W_C",
        "outputId": "010eee44-3b46-45f7-cb7f-130d88850706"
      },
      "outputs": [
        {
          "data": {
            "text/plain": [
              "review       Basically there's a family where a little boy ...\n",
              "sentiment                                             negative\n",
              "Name: 3, dtype: object"
            ]
          },
          "execution_count": 7,
          "metadata": {},
          "output_type": "execute_result"
        }
      ],
      "source": [
        "imdb.iloc[3]"
      ]
    },
    {
      "cell_type": "markdown",
      "metadata": {
        "id": "3cP-jonf0W_D"
      },
      "source": [
        "# pretraitement"
      ]
    },
    {
      "cell_type": "markdown",
      "metadata": {
        "id": "5w37cwXc0W_E"
      },
      "source": [
        "## nettoyer les données textuelles"
      ]
    },
    {
      "cell_type": "code",
      "execution_count": 3,
      "metadata": {
        "id": "bvInT2BE0W_E"
      },
      "outputs": [],
      "source": [
        "def preprocess_text(sen):\n",
        "    # Removing html tags\n",
        "    sentence = remove_tags(sen)\n",
        "    # Remove punctuations and numbers\n",
        "    sentence = re.sub('[^a-zA-Z]', ' ', sentence)\n",
        "    # Single character removal\n",
        "    sentence = re.sub(r\"\\s+[a-zA-Z]\\s+\", ' ', sentence)\n",
        "    # Removing multiple spaces\n",
        "    sentence = re.sub(r'\\s+', ' ', sentence)\n",
        "    return sentence\n",
        "TAG_RE = re.compile(r'<[^>]+>')\n",
        "def remove_tags(text):\n",
        "    return TAG_RE.sub('', text)"
      ]
    },
    {
      "cell_type": "code",
      "execution_count": 4,
      "metadata": {
        "id": "j8F4gfFB0W_F"
      },
      "outputs": [],
      "source": [
        "X = []\n",
        "sentences = list(imdb['review'])\n",
        "for sen in sentences:\n",
        "    X.append(preprocess_text(sen))"
      ]
    },
    {
      "cell_type": "code",
      "execution_count": 10,
      "metadata": {
        "colab": {
          "base_uri": "https://localhost:8080/",
          "height": 105
        },
        "id": "JoshMHgN0W_G",
        "outputId": "fde3f545-5963-4730-bc9c-d528be91febe"
      },
      "outputs": [
        {
          "data": {
            "application/vnd.google.colaboratory.intrinsic+json": {
              "type": "string"
            },
            "text/plain": [
              "'Basically there a family where little boy Jake thinks there a zombie in his closet his parents are fighting all the time This movie is slower than soap opera and suddenly Jake decides to become Rambo and kill the zombie OK first of all when you re going to make film you must Decide if its thriller or drama As drama the movie is watchable Parents are divorcing arguing like in real life And then we have Jake with his closet which totally ruins all the film expected to see BOOGEYMAN similar movie and instead watched drama with some meaningless thriller spots out of just for the well playing parents descent dialogs As for the shots with Jake just ignore them '"
            ]
          },
          "execution_count": 10,
          "metadata": {},
          "output_type": "execute_result"
        }
      ],
      "source": [
        "X[3]"
      ]
    },
    {
      "cell_type": "markdown",
      "metadata": {
        "id": "jlIKQA5v0W_G"
      },
      "source": [
        "## convertir les étiquettes en chiffres"
      ]
    },
    {
      "cell_type": "code",
      "execution_count": 5,
      "metadata": {
        "id": "hqUQR-B50W_H"
      },
      "outputs": [],
      "source": [
        "y = imdb['sentiment']\n",
        "y = np.array(list(map(lambda x: 1 if x==\"positive\" else 0, y)))"
      ]
    },
    {
      "cell_type": "markdown",
      "metadata": {
        "id": "pCfw1-kS0W_I"
      },
      "source": [
        "## Diviser le dataset en training et test sets."
      ]
    },
    {
      "cell_type": "code",
      "execution_count": 12,
      "metadata": {
        "id": "hfc3JXuC0W_J"
      },
      "outputs": [],
      "source": [
        "X_train, X_test, y_train, y_test = train_test_split(X, y,\n",
        "test_size=0.20, random_state=42)"
      ]
    },
    {
      "cell_type": "markdown",
      "metadata": {
        "id": "WAXDiha10W_J"
      },
      "source": [
        "# La couche de l’embedding"
      ]
    },
    {
      "cell_type": "markdown",
      "metadata": {
        "id": "4fXZ9Pcc0W_K"
      },
      "source": [
        "## dictionnaire word-to-index"
      ]
    },
    {
      "cell_type": "code",
      "execution_count": 13,
      "metadata": {
        "id": "jsC5bsGf0W_L"
      },
      "outputs": [],
      "source": [
        "tokenizer = Tokenizer(num_words=5000) #top 5000 most frequent words\n",
        "tokenizer.fit_on_texts(X_train)\n",
        "X_train = tokenizer.texts_to_sequences(X_train)\n",
        "X_test = tokenizer.texts_to_sequences(X_test)"
      ]
    },
    {
      "cell_type": "code",
      "execution_count": 14,
      "metadata": {
        "colab": {
          "base_uri": "https://localhost:8080/"
        },
        "id": "eDG1a1c60W_L",
        "outputId": "3931a3d1-d36a-4f8f-d27f-5002f5d1817e"
      },
      "outputs": [
        {
          "data": {
            "text/plain": [
              "[8,\n",
              " 1547,\n",
              " 247,\n",
              " 2628,\n",
              " 5,\n",
              " 443,\n",
              " 4385,\n",
              " 1871,\n",
              " 14,\n",
              " 30,\n",
              " 31,\n",
              " 1062,\n",
              " 390,\n",
              " 4,\n",
              " 968,\n",
              " 119,\n",
              " 22,\n",
              " 118,\n",
              " 4197,\n",
              " 29,\n",
              " 44,\n",
              " 3,\n",
              " 1,\n",
              " 17,\n",
              " 78,\n",
              " 118,\n",
              " 4125,\n",
              " 122,\n",
              " 502,\n",
              " 18,\n",
              " 2,\n",
              " 31,\n",
              " 37,\n",
              " 555,\n",
              " 4,\n",
              " 25,\n",
              " 2839,\n",
              " 1,\n",
              " 2628,\n",
              " 221,\n",
              " 77,\n",
              " 4,\n",
              " 170,\n",
              " 1663,\n",
              " 777,\n",
              " 57,\n",
              " 59,\n",
              " 924,\n",
              " 7,\n",
              " 44,\n",
              " 1974,\n",
              " 950,\n",
              " 1164,\n",
              " 3355,\n",
              " 57,\n",
              " 376,\n",
              " 754,\n",
              " 264,\n",
              " 30,\n",
              " 1318,\n",
              " 1746,\n",
              " 1326,\n",
              " 31,\n",
              " 376,\n",
              " 529,\n",
              " 1135,\n",
              " 491,\n",
              " 19,\n",
              " 4,\n",
              " 736,\n",
              " 745,\n",
              " 701,\n",
              " 39,\n",
              " 3,\n",
              " 1,\n",
              " 1320,\n",
              " 3,\n",
              " 251,\n",
              " 7,\n",
              " 8,\n",
              " 407,\n",
              " 1,\n",
              " 103,\n",
              " 2654,\n",
              " 1749,\n",
              " 3813,\n",
              " 1420,\n",
              " 3515,\n",
              " 7,\n",
              " 1,\n",
              " 125,\n",
              " 46,\n",
              " 130,\n",
              " 147,\n",
              " 749,\n",
              " 9,\n",
              " 8,\n",
              " 16,\n",
              " 266,\n",
              " 52,\n",
              " 1975,\n",
              " 3,\n",
              " 1,\n",
              " 3,\n",
              " 3626,\n",
              " 13,\n",
              " 1,\n",
              " 57,\n",
              " 6,\n",
              " 3735,\n",
              " 7,\n",
              " 430,\n",
              " 752,\n",
              " 2,\n",
              " 9,\n",
              " 6,\n",
              " 5,\n",
              " 1428,\n",
              " 4,\n",
              " 1563,\n",
              " 2543,\n",
              " 51,\n",
              " 1,\n",
              " 2037,\n",
              " 15,\n",
              " 610,\n",
              " 94,\n",
              " 1064,\n",
              " 276,\n",
              " 3,\n",
              " 2,\n",
              " 36,\n",
              " 1415,\n",
              " 14,\n",
              " 57,\n",
              " 2990,\n",
              " 2628,\n",
              " 63,\n",
              " 29,\n",
              " 87,\n",
              " 428,\n",
              " 332,\n",
              " 3432]"
            ]
          },
          "execution_count": 14,
          "metadata": {},
          "output_type": "execute_result"
        }
      ],
      "source": [
        "X_train[3]"
      ]
    },
    {
      "cell_type": "markdown",
      "metadata": {
        "id": "DDNZcrdO0W_M"
      },
      "source": [
        "La taille de chaque liste est différente car les phrases possèdent des tailles différentes.\n",
        "Le script ci-dessous trouve la taille du vocabulaire, puis effectue un remplissage sur\n",
        "l'ensemble d'entraînement et de test."
      ]
    },
    {
      "cell_type": "code",
      "execution_count": 15,
      "metadata": {
        "id": "4YnZ3HHp0W_N"
      },
      "outputs": [],
      "source": [
        "# Adding 1 because of reserved 0 index\n",
        "vocab_size = len(tokenizer.word_index) + 1\n",
        "maxlen = 100\n",
        "X_train = pad_sequences(X_train, padding='post', maxlen=maxlen)\n",
        "X_test = pad_sequences(X_test, padding='post', maxlen=maxlen)"
      ]
    },
    {
      "cell_type": "code",
      "execution_count": 16,
      "metadata": {
        "colab": {
          "base_uri": "https://localhost:8080/"
        },
        "id": "cHi5T8bH0W_N",
        "outputId": "e2920339-c193-4c85-bb69-209b7b04369b"
      },
      "outputs": [
        {
          "data": {
            "text/plain": [
              "92547"
            ]
          },
          "execution_count": 16,
          "metadata": {},
          "output_type": "execute_result"
        }
      ],
      "source": [
        "vocab_size"
      ]
    },
    {
      "cell_type": "markdown",
      "metadata": {
        "id": "ZIOoDGy40W_O"
      },
      "source": [
        "Les listes ont la même longueur, c'est-à-dire 100. De plus, la variable vocabulary_size contient maintenant une valeur 92547, ce qui signifie que le corpus contient 92547 mots uniques."
      ]
    },
    {
      "cell_type": "markdown",
      "metadata": {
        "id": "-oPQPN5r0W_P"
      },
      "source": [
        "##  GloVe : Global Vectors for Word Representation"
      ]
    },
    {
      "cell_type": "code",
      "execution_count": 17,
      "metadata": {
        "colab": {
          "base_uri": "https://localhost:8080/",
          "height": 321
        },
        "id": "H6F7we__2QBH",
        "outputId": "4893f240-c0a3-4198-b090-db417d49c1ea"
      },
      "outputs": [
        {
          "ename": "KeyboardInterrupt",
          "evalue": "",
          "output_type": "error",
          "traceback": [
            "\u001b[0;31m---------------------------------------------------------------------------\u001b[0m",
            "\u001b[0;31mKeyboardInterrupt\u001b[0m                         Traceback (most recent call last)",
            "\u001b[0;32m<ipython-input-17-4ab0a4fd11d6>\u001b[0m in \u001b[0;36m<cell line: 3>\u001b[0;34m()\u001b[0m\n\u001b[1;32m      1\u001b[0m \u001b[0;32mimport\u001b[0m \u001b[0murllib\u001b[0m\u001b[0;34m.\u001b[0m\u001b[0mrequest\u001b[0m\u001b[0;34m\u001b[0m\u001b[0;34m\u001b[0m\u001b[0m\n\u001b[1;32m      2\u001b[0m \u001b[0;34m\u001b[0m\u001b[0m\n\u001b[0;32m----> 3\u001b[0;31m \u001b[0murllib\u001b[0m\u001b[0;34m.\u001b[0m\u001b[0mrequest\u001b[0m\u001b[0;34m.\u001b[0m\u001b[0murlretrieve\u001b[0m\u001b[0;34m(\u001b[0m\u001b[0;34m'https://nlp.stanford.edu/data/glove.6B.zip'\u001b[0m\u001b[0;34m,\u001b[0m\u001b[0;34m'glove.6B.zip'\u001b[0m\u001b[0;34m)\u001b[0m\u001b[0;34m\u001b[0m\u001b[0;34m\u001b[0m\u001b[0m\n\u001b[0m",
            "\u001b[0;32m/usr/lib/python3.10/urllib/request.py\u001b[0m in \u001b[0;36murlretrieve\u001b[0;34m(url, filename, reporthook, data)\u001b[0m\n\u001b[1;32m    268\u001b[0m \u001b[0;34m\u001b[0m\u001b[0m\n\u001b[1;32m    269\u001b[0m             \u001b[0;32mwhile\u001b[0m \u001b[0;32mTrue\u001b[0m\u001b[0;34m:\u001b[0m\u001b[0;34m\u001b[0m\u001b[0;34m\u001b[0m\u001b[0m\n\u001b[0;32m--> 270\u001b[0;31m                 \u001b[0mblock\u001b[0m \u001b[0;34m=\u001b[0m \u001b[0mfp\u001b[0m\u001b[0;34m.\u001b[0m\u001b[0mread\u001b[0m\u001b[0;34m(\u001b[0m\u001b[0mbs\u001b[0m\u001b[0;34m)\u001b[0m\u001b[0;34m\u001b[0m\u001b[0;34m\u001b[0m\u001b[0m\n\u001b[0m\u001b[1;32m    271\u001b[0m                 \u001b[0;32mif\u001b[0m \u001b[0;32mnot\u001b[0m \u001b[0mblock\u001b[0m\u001b[0;34m:\u001b[0m\u001b[0;34m\u001b[0m\u001b[0;34m\u001b[0m\u001b[0m\n\u001b[1;32m    272\u001b[0m                     \u001b[0;32mbreak\u001b[0m\u001b[0;34m\u001b[0m\u001b[0;34m\u001b[0m\u001b[0m\n",
            "\u001b[0;32m/usr/lib/python3.10/http/client.py\u001b[0m in \u001b[0;36mread\u001b[0;34m(self, amt)\u001b[0m\n\u001b[1;32m    464\u001b[0m                 \u001b[0;31m# clip the read to the \"end of response\"\u001b[0m\u001b[0;34m\u001b[0m\u001b[0;34m\u001b[0m\u001b[0m\n\u001b[1;32m    465\u001b[0m                 \u001b[0mamt\u001b[0m \u001b[0;34m=\u001b[0m \u001b[0mself\u001b[0m\u001b[0;34m.\u001b[0m\u001b[0mlength\u001b[0m\u001b[0;34m\u001b[0m\u001b[0;34m\u001b[0m\u001b[0m\n\u001b[0;32m--> 466\u001b[0;31m             \u001b[0ms\u001b[0m \u001b[0;34m=\u001b[0m \u001b[0mself\u001b[0m\u001b[0;34m.\u001b[0m\u001b[0mfp\u001b[0m\u001b[0;34m.\u001b[0m\u001b[0mread\u001b[0m\u001b[0;34m(\u001b[0m\u001b[0mamt\u001b[0m\u001b[0;34m)\u001b[0m\u001b[0;34m\u001b[0m\u001b[0;34m\u001b[0m\u001b[0m\n\u001b[0m\u001b[1;32m    467\u001b[0m             \u001b[0;32mif\u001b[0m \u001b[0;32mnot\u001b[0m \u001b[0ms\u001b[0m \u001b[0;32mand\u001b[0m \u001b[0mamt\u001b[0m\u001b[0;34m:\u001b[0m\u001b[0;34m\u001b[0m\u001b[0;34m\u001b[0m\u001b[0m\n\u001b[1;32m    468\u001b[0m                 \u001b[0;31m# Ideally, we would raise IncompleteRead if the content-length\u001b[0m\u001b[0;34m\u001b[0m\u001b[0;34m\u001b[0m\u001b[0m\n",
            "\u001b[0;32m/usr/lib/python3.10/socket.py\u001b[0m in \u001b[0;36mreadinto\u001b[0;34m(self, b)\u001b[0m\n\u001b[1;32m    703\u001b[0m         \u001b[0;32mwhile\u001b[0m \u001b[0;32mTrue\u001b[0m\u001b[0;34m:\u001b[0m\u001b[0;34m\u001b[0m\u001b[0;34m\u001b[0m\u001b[0m\n\u001b[1;32m    704\u001b[0m             \u001b[0;32mtry\u001b[0m\u001b[0;34m:\u001b[0m\u001b[0;34m\u001b[0m\u001b[0;34m\u001b[0m\u001b[0m\n\u001b[0;32m--> 705\u001b[0;31m                 \u001b[0;32mreturn\u001b[0m \u001b[0mself\u001b[0m\u001b[0;34m.\u001b[0m\u001b[0m_sock\u001b[0m\u001b[0;34m.\u001b[0m\u001b[0mrecv_into\u001b[0m\u001b[0;34m(\u001b[0m\u001b[0mb\u001b[0m\u001b[0;34m)\u001b[0m\u001b[0;34m\u001b[0m\u001b[0;34m\u001b[0m\u001b[0m\n\u001b[0m\u001b[1;32m    706\u001b[0m             \u001b[0;32mexcept\u001b[0m \u001b[0mtimeout\u001b[0m\u001b[0;34m:\u001b[0m\u001b[0;34m\u001b[0m\u001b[0;34m\u001b[0m\u001b[0m\n\u001b[1;32m    707\u001b[0m                 \u001b[0mself\u001b[0m\u001b[0;34m.\u001b[0m\u001b[0m_timeout_occurred\u001b[0m \u001b[0;34m=\u001b[0m \u001b[0;32mTrue\u001b[0m\u001b[0;34m\u001b[0m\u001b[0;34m\u001b[0m\u001b[0m\n",
            "\u001b[0;32m/usr/lib/python3.10/ssl.py\u001b[0m in \u001b[0;36mrecv_into\u001b[0;34m(self, buffer, nbytes, flags)\u001b[0m\n\u001b[1;32m   1301\u001b[0m                   \u001b[0;34m\"non-zero flags not allowed in calls to recv_into() on %s\"\u001b[0m \u001b[0;34m%\u001b[0m\u001b[0;34m\u001b[0m\u001b[0;34m\u001b[0m\u001b[0m\n\u001b[1;32m   1302\u001b[0m                   self.__class__)\n\u001b[0;32m-> 1303\u001b[0;31m             \u001b[0;32mreturn\u001b[0m \u001b[0mself\u001b[0m\u001b[0;34m.\u001b[0m\u001b[0mread\u001b[0m\u001b[0;34m(\u001b[0m\u001b[0mnbytes\u001b[0m\u001b[0;34m,\u001b[0m \u001b[0mbuffer\u001b[0m\u001b[0;34m)\u001b[0m\u001b[0;34m\u001b[0m\u001b[0;34m\u001b[0m\u001b[0m\n\u001b[0m\u001b[1;32m   1304\u001b[0m         \u001b[0;32melse\u001b[0m\u001b[0;34m:\u001b[0m\u001b[0;34m\u001b[0m\u001b[0;34m\u001b[0m\u001b[0m\n\u001b[1;32m   1305\u001b[0m             \u001b[0;32mreturn\u001b[0m \u001b[0msuper\u001b[0m\u001b[0;34m(\u001b[0m\u001b[0;34m)\u001b[0m\u001b[0;34m.\u001b[0m\u001b[0mrecv_into\u001b[0m\u001b[0;34m(\u001b[0m\u001b[0mbuffer\u001b[0m\u001b[0;34m,\u001b[0m \u001b[0mnbytes\u001b[0m\u001b[0;34m,\u001b[0m \u001b[0mflags\u001b[0m\u001b[0;34m)\u001b[0m\u001b[0;34m\u001b[0m\u001b[0;34m\u001b[0m\u001b[0m\n",
            "\u001b[0;32m/usr/lib/python3.10/ssl.py\u001b[0m in \u001b[0;36mread\u001b[0;34m(self, len, buffer)\u001b[0m\n\u001b[1;32m   1157\u001b[0m         \u001b[0;32mtry\u001b[0m\u001b[0;34m:\u001b[0m\u001b[0;34m\u001b[0m\u001b[0;34m\u001b[0m\u001b[0m\n\u001b[1;32m   1158\u001b[0m             \u001b[0;32mif\u001b[0m \u001b[0mbuffer\u001b[0m \u001b[0;32mis\u001b[0m \u001b[0;32mnot\u001b[0m \u001b[0;32mNone\u001b[0m\u001b[0;34m:\u001b[0m\u001b[0;34m\u001b[0m\u001b[0;34m\u001b[0m\u001b[0m\n\u001b[0;32m-> 1159\u001b[0;31m                 \u001b[0;32mreturn\u001b[0m \u001b[0mself\u001b[0m\u001b[0;34m.\u001b[0m\u001b[0m_sslobj\u001b[0m\u001b[0;34m.\u001b[0m\u001b[0mread\u001b[0m\u001b[0;34m(\u001b[0m\u001b[0mlen\u001b[0m\u001b[0;34m,\u001b[0m \u001b[0mbuffer\u001b[0m\u001b[0;34m)\u001b[0m\u001b[0;34m\u001b[0m\u001b[0;34m\u001b[0m\u001b[0m\n\u001b[0m\u001b[1;32m   1160\u001b[0m             \u001b[0;32melse\u001b[0m\u001b[0;34m:\u001b[0m\u001b[0;34m\u001b[0m\u001b[0;34m\u001b[0m\u001b[0m\n\u001b[1;32m   1161\u001b[0m                 \u001b[0;32mreturn\u001b[0m \u001b[0mself\u001b[0m\u001b[0;34m.\u001b[0m\u001b[0m_sslobj\u001b[0m\u001b[0;34m.\u001b[0m\u001b[0mread\u001b[0m\u001b[0;34m(\u001b[0m\u001b[0mlen\u001b[0m\u001b[0;34m)\u001b[0m\u001b[0;34m\u001b[0m\u001b[0;34m\u001b[0m\u001b[0m\n",
            "\u001b[0;31mKeyboardInterrupt\u001b[0m: "
          ]
        }
      ],
      "source": [
        "import urllib.request\n",
        "\n",
        "urllib.request.urlretrieve('https://nlp.stanford.edu/data/glove.6B.zip','glove.6B.zip')"
      ]
    },
    {
      "cell_type": "code",
      "execution_count": null,
      "metadata": {
        "id": "LCu_IA522STj"
      },
      "outputs": [],
      "source": [
        "!unzip \"/content/glove.6B.zip\" -d \"/content/\"\n"
      ]
    },
    {
      "cell_type": "code",
      "execution_count": null,
      "metadata": {
        "id": "f7TUHz4q2WVb"
      },
      "outputs": [],
      "source": []
    },
    {
      "cell_type": "markdown",
      "metadata": {
        "id": "23WYxH0T0W_P"
      },
      "source": [
        "créons un dictionnaire qui contiendra des mots en tant que clés et\n",
        "leur liste d’embeddings correspondante en tant que valeurs."
      ]
    },
    {
      "cell_type": "code",
      "execution_count": 18,
      "metadata": {
        "colab": {
          "base_uri": "https://localhost:8080/"
        },
        "id": "JSEEZoo30W_Q",
        "outputId": "63774eb8-a6b8-46ba-b67c-31a7a1630830"
      },
      "outputs": [
        {
          "name": "stdout",
          "output_type": "stream",
          "text": [
            "the -0.038194 -0.24487 0.72812 -0.39961 0.083172 0.043953 -0.39141 0.3344 -0.57545 0.087459 0.28787 -0.06731 0.30906 -0.26384 -0.13231 -0.20757 0.33395 -0.33848 -0.31743 -0.48336 0.1464 -0.37304 0.34577 0.052041 0.44946 -0.46971 0.02628 -0.54155 -0.15518 -0.14107 -0.039722 0.28277 0.14393 0.23464 -0.31021 0.086173 0.20397 0.52624 0.17164 -0.082378 -0.71787 -0.41531 0.20335 -0.12763 0.41367 0.55187 0.57908 -0.33477 -0.36559 -0.54857 -0.062892 0.26584 0.30205 0.99775 -0.80481 -3.0243 0.01254 -0.36942 2.2167 0.72201 -0.24978 0.92136 0.034514 0.46745 1.1079 -0.19358 -0.074575 0.23353 -0.052062 -0.22044 0.057162 -0.15806 -0.30798 -0.41625 0.37972 0.15006 -0.53212 -0.2055 -1.2526 0.071624 0.70565 0.49744 -0.42063 0.26148 -1.538 -0.30223 -0.073438 -0.28312 0.37104 -0.25217 0.016215 -0.017099 -0.38984 0.87424 -0.72569 -0.51058 -0.52028 -0.1459 0.8278 0.27062\n",
            "\n",
            ", -0.10767 0.11053 0.59812 -0.54361 0.67396 0.10663 0.038867 0.35481 0.06351 -0.094189 0.15786 -0.81665 0.14172 0.21939 0.58505 -0.52158 0.22783 -0.16642 -0.68228 0.3587 0.42568 0.19021 0.91963 0.57555 0.46185 0.42363 -0.095399 -0.42749 -0.16567 -0.056842 -0.29595 0.26037 -0.26606 -0.070404 -0.27662 0.15821 0.69825 0.43081 0.27952 -0.45437 -0.33801 -0.58184 0.22364 -0.5778 -0.26862 -0.20425 0.56394 -0.58524 -0.14365 -0.64218 0.0054697 -0.35248 0.16162 1.1796 -0.47674 -2.7553 -0.1321 -0.047729 1.0655 1.1034 -0.2208 0.18669 0.13177 0.15117 0.7131 -0.35215 0.91348 0.61783 0.70992 0.23955 -0.14571 -0.37859 -0.045959 -0.47368 0.2385 0.20536 -0.18996 0.32507 -1.1112 -0.36341 0.98679 -0.084776 -0.54008 0.11726 -1.0194 -0.24424 0.12771 0.013884 0.080374 -0.35414 0.34951 -0.7226 0.37549 0.4441 -0.99059 0.61214 -0.35111 -0.83155 0.45293 0.082577\n",
            "\n",
            ". -0.33979 0.20941 0.46348 -0.64792 -0.38377 0.038034 0.17127 0.15978 0.46619 -0.019169 0.41479 -0.34349 0.26872 0.04464 0.42131 -0.41032 0.15459 0.022239 -0.64653 0.25256 0.043136 -0.19445 0.46516 0.45651 0.68588 0.091295 0.21875 -0.70351 0.16785 -0.35079 -0.12634 0.66384 -0.2582 0.036542 -0.13605 0.40253 0.14289 0.38132 -0.12283 -0.45886 -0.25282 -0.30432 -0.11215 -0.26182 -0.22482 -0.44554 0.2991 -0.85612 -0.14503 -0.49086 0.0082973 -0.17491 0.27524 1.4401 -0.21239 -2.8435 -0.27958 -0.45722 1.6386 0.78808 -0.55262 0.65 0.086426 0.39012 1.0632 -0.35379 0.48328 0.346 0.84174 0.098707 -0.24213 -0.27053 0.045287 -0.40147 0.11395 0.0062226 0.036673 0.018518 -1.0213 -0.20806 0.64072 -0.068763 -0.58635 0.33476 -1.1432 -0.1148 -0.25091 -0.45907 -0.096819 -0.17946 -0.063351 -0.67412 -0.068895 0.53604 -0.87773 0.31802 -0.39242 -0.23394 0.47298 -0.028803\n",
            "\n",
            "of -0.1529 -0.24279 0.89837 0.16996 0.53516 0.48784 -0.58826 -0.17982 -1.3581 0.42541 0.15377 0.24215 0.13474 0.41193 0.67043 -0.56418 0.42985 -0.012183 -0.11677 0.31781 0.054177 -0.054273 0.35516 -0.30241 0.31434 -0.33846 0.71715 -0.26855 -0.15837 -0.47467 0.051581 -0.33252 0.15003 -0.1299 -0.54617 -0.37843 0.64261 0.82187 -0.080006 0.078479 -0.96976 -0.57741 0.56491 -0.39873 -0.057099 0.19743 0.065706 -0.48092 -0.20125 -0.40834 0.39456 -0.02642 -0.11838 1.012 -0.53171 -2.7474 -0.042981 -0.74849 1.7574 0.59085 0.04885 0.78267 0.38497 0.42097 0.67882 0.10337 0.6328 -0.026595 0.58647 -0.44332 0.33057 -0.12022 -0.55645 0.073611 0.20915 0.43395 -0.012761 0.089874 -1.7991 0.084808 0.77112 0.63105 -0.90685 0.60326 -1.7515 0.18596 -0.50687 -0.70203 0.66578 -0.81304 0.18712 -0.018488 -0.26757 0.727 -0.59363 -0.34839 -0.56094 -0.591 1.0039 0.20664\n",
            "\n",
            "to -0.1897 0.050024 0.19084 -0.049184 -0.089737 0.21006 -0.54952 0.098377 -0.20135 0.34241 -0.092677 0.161 -0.13268 -0.2816 0.18737 -0.42959 0.96039 0.13972 -1.0781 0.40518 0.50539 -0.55064 0.4844 0.38044 -0.0029055 -0.34942 -0.099696 -0.78368 1.0363 -0.2314 -0.47121 0.57126 -0.21454 0.35958 -0.48319 1.0875 0.28524 0.12447 -0.039248 -0.076732 -0.76343 -0.32409 -0.5749 -1.0893 -0.41811 0.4512 0.12112 -0.51367 -0.13349 -1.1378 -0.28768 0.16774 0.55804 1.5387 0.018859 -2.9721 -0.24216 -0.92495 2.1992 0.28234 -0.3478 0.51621 -0.43387 0.36852 0.74573 0.072102 0.27931 0.92569 -0.050336 -0.85856 -0.1358 -0.92551 -0.33991 -1.0394 -0.067203 -0.21379 -0.4769 0.21377 -0.84008 0.052536 0.59298 0.29604 -0.67644 0.13916 -1.5504 -0.20765 0.7222 0.52056 -0.076221 -0.15194 -0.13134 0.058617 -0.31869 -0.61419 -0.62393 -0.41548 -0.038175 -0.39804 0.47647 -0.15983\n",
            "\n"
          ]
        }
      ],
      "source": [
        "from numpy import array\n",
        "from numpy import asarray\n",
        "from numpy import zeros\n",
        "embeddings_dictionary = dict()\n",
        "glove_file = open(\"glove.6B.100d.txt\", encoding=\"utf8\")\n",
        "for i in range(5):\n",
        "    line = glove_file.readline()\n",
        "    print(line)\n",
        "for line in glove_file:\n",
        "    records = line.split()\n",
        "    word = records[0]\n",
        "    vector_dimensions = asarray(records[1:],dtype='float32')\n",
        "    embeddings_dictionary [word] = vector_dimensions\n",
        "glove_file.close()"
      ]
    },
    {
      "cell_type": "markdown",
      "metadata": {
        "id": "d3HalDSt0W_R"
      },
      "source": [
        "Enfin, nous allons créer une matrice d’embeddings où chaque numéro de ligne\n",
        "correspondra à l'index du mot dans le corpus. La matrice aura 100 colonnes où chaque\n",
        "colonne contiendra les embeddings GloVe pour les mots de notre corpus."
      ]
    },
    {
      "cell_type": "code",
      "execution_count": 19,
      "metadata": {
        "id": "0jP4Bty60W_R"
      },
      "outputs": [],
      "source": [
        "embedding_matrix = zeros((vocab_size, 100))\n",
        "for word, index in tokenizer.word_index.items():\n",
        "    embedding_vector = embeddings_dictionary.get(word)\n",
        "    if embedding_vector is not None:\n",
        "        embedding_matrix[index] = embedding_vector"
      ]
    },
    {
      "cell_type": "code",
      "execution_count": 20,
      "metadata": {
        "colab": {
          "base_uri": "https://localhost:8080/"
        },
        "id": "curgfSwh0W_S",
        "outputId": "79446093-a17a-475a-aea6-f352f6e7578a"
      },
      "outputs": [
        {
          "data": {
            "text/plain": [
              "array([ 0.085703  , -0.22201   ,  0.16569   ,  0.13372999,  0.38238999,\n",
              "        0.35400999,  0.01287   ,  0.22461   , -0.43816999,  0.50164002,\n",
              "       -0.35874   , -0.34983   ,  0.055156  ,  0.69647998, -0.17958   ,\n",
              "        0.067926  ,  0.39100999,  0.16039   , -0.26635   , -0.21138   ,\n",
              "        0.53697997,  0.49379   ,  0.93660003,  0.66902   ,  0.21793   ,\n",
              "       -0.46641999,  0.22383   , -0.36204001, -0.17656   ,  0.17479999,\n",
              "       -0.20367   ,  0.13931   ,  0.019832  , -0.10413   , -0.20243999,\n",
              "        0.55002999, -0.15459999,  0.98654997, -0.26863   , -0.29089999,\n",
              "       -0.32866001, -0.34187999, -0.16943   , -0.42001   , -0.046727  ,\n",
              "       -0.16327   ,  0.70823997, -0.74910998, -0.091559  , -0.96178001,\n",
              "       -0.19746999,  0.10282   ,  0.55220997,  1.38160002, -0.65635997,\n",
              "       -3.25020003, -0.31556001, -1.20550001,  1.77090001,  0.40259999,\n",
              "       -0.79826999,  1.15970004, -0.33041999,  0.31382   ,  0.77385998,\n",
              "        0.22595   ,  0.52471   , -0.034053  ,  0.32047999,  0.079948  ,\n",
              "        0.17752001, -0.49426001, -0.70045   , -0.44569001,  0.17244001,\n",
              "        0.20277999,  0.023292  , -0.20677   , -1.0158    ,  0.18325   ,\n",
              "        0.56752002,  0.31821001, -0.65011001,  0.68277001, -0.86584997,\n",
              "       -0.059392  , -0.29264   , -0.55668002, -0.34705001, -0.32894999,\n",
              "        0.40215001, -0.12746   , -0.20228   ,  0.87368   , -0.54500002,\n",
              "        0.79205   , -0.20694999, -0.074273  ,  0.75808001, -0.34243   ])"
            ]
          },
          "execution_count": 20,
          "metadata": {},
          "output_type": "execute_result"
        }
      ],
      "source": [
        "embedding_matrix[7]"
      ]
    },
    {
      "cell_type": "markdown",
      "metadata": {
        "id": "Idm7Wnou0W_S"
      },
      "source": [
        "# modelisation"
      ]
    },
    {
      "cell_type": "markdown",
      "metadata": {
        "id": "oXCAdvjC0W_T"
      },
      "source": [
        "## A. Classification avec un simple réseau de neurones"
      ]
    },
    {
      "cell_type": "code",
      "execution_count": 21,
      "metadata": {
        "colab": {
          "base_uri": "https://localhost:8080/"
        },
        "id": "cT_p_DpY0W_T",
        "outputId": "8c423b1a-f097-4980-81d3-6b88ee9ee678"
      },
      "outputs": [
        {
          "name": "stdout",
          "output_type": "stream",
          "text": [
            "Epoch 1/6\n",
            "250/250 [==============================] - 4s 5ms/step - loss: 0.5968 - acc: 0.6764 - val_loss: 0.5301 - val_acc: 0.7351\n",
            "Epoch 2/6\n",
            "250/250 [==============================] - 1s 5ms/step - loss: 0.4916 - acc: 0.7635 - val_loss: 0.5208 - val_acc: 0.7410\n",
            "Epoch 3/6\n",
            "250/250 [==============================] - 1s 5ms/step - loss: 0.4558 - acc: 0.7870 - val_loss: 0.5165 - val_acc: 0.7495\n",
            "Epoch 4/6\n",
            "250/250 [==============================] - 1s 4ms/step - loss: 0.4335 - acc: 0.8017 - val_loss: 0.5254 - val_acc: 0.7449\n",
            "Epoch 5/6\n",
            "250/250 [==============================] - 1s 5ms/step - loss: 0.4169 - acc: 0.8106 - val_loss: 0.5264 - val_acc: 0.7483\n",
            "Epoch 6/6\n",
            "250/250 [==============================] - 1s 5ms/step - loss: 0.4045 - acc: 0.8151 - val_loss: 0.5457 - val_acc: 0.7441\n"
          ]
        }
      ],
      "source": [
        "# from keras.models import Sequential\n",
        "# from keras.layers import Embedding, Flatten, Dense\n",
        "\n",
        "# Création du modèle séquentiel\n",
        "ann_model = Sequential()\n",
        "\n",
        "# Ajout de la couche d'embedding\n",
        "ann_model.add(Embedding(vocab_size, 100, weights=[embedding_matrix], input_length=maxlen, trainable=False))\n",
        "\n",
        "# Ajout de la couche Flatten\n",
        "ann_model.add(Flatten())\n",
        "\n",
        "# Ajout de la couche Dense\n",
        "ann_model.add(Dense(units=1, activation='sigmoid'))\n",
        "\n",
        "# Compilation du modèle\n",
        "ann_model.compile(loss='binary_crossentropy', optimizer='adam', metrics=['acc'])\n",
        "\n",
        "# Entraînement du modèle\n",
        "history=ann_model.fit(X_train, y_train, epochs=6, batch_size=128, verbose=1, validation_split=0.2)\n"
      ]
    },
    {
      "cell_type": "code",
      "execution_count": 22,
      "metadata": {
        "colab": {
          "base_uri": "https://localhost:8080/"
        },
        "id": "XJAeHm-_0W_U",
        "outputId": "88d903a9-b730-4035-940f-d68ceb96a405"
      },
      "outputs": [
        {
          "name": "stdout",
          "output_type": "stream",
          "text": [
            "313/313 [==============================] - 1s 3ms/step - loss: 0.5503 - acc: 0.7386\n",
            "Test Score: 0.550250232219696\n",
            "Test Accuracy: 0.7386000156402588\n"
          ]
        }
      ],
      "source": [
        "score = ann_model.evaluate(X_test, y_test, verbose=1)\n",
        "print(\"Test Score:\", score[0])\n",
        "print(\"Test Accuracy:\", score[1])"
      ]
    },
    {
      "cell_type": "code",
      "execution_count": 23,
      "metadata": {
        "colab": {
          "base_uri": "https://localhost:8080/",
          "height": 927
        },
        "id": "MKMAWLHf0W_V",
        "outputId": "04110940-6fb7-4d14-8207-9a207e4ef0fd"
      },
      "outputs": [
        {
          "data": {
            "image/png": "[encoded data removed]",
            "text/plain": [
              "<Figure size 640x480 with 1 Axes>"
            ]
          },
          "metadata": {},
          "output_type": "display_data"
        },
        {
          "data": {
            "image/png": "[encoded data removed]",
            "text/plain": [
              "<Figure size 640x480 with 1 Axes>"
            ]
          },
          "metadata": {},
          "output_type": "display_data"
        }
      ],
      "source": [
        "plt.plot(history.history['acc'])\n",
        "plt.plot(history.history['val_acc'])\n",
        "plt.title('model accuracy')\n",
        "plt.ylabel('accuracy')\n",
        "plt.xlabel('epoch')\n",
        "plt.legend(['train','test'], loc='upper left')\n",
        "plt.show()\n",
        "plt.plot(history.history['loss'])\n",
        "plt.plot(history.history['val_loss'])\n",
        "plt.title('model loss')\n",
        "plt.ylabel('loss')\n",
        "plt.xlabel('epoch')\n",
        "plt.legend(['train','test'], loc='upper left')\n",
        "plt.show()"
      ]
    },
    {
      "cell_type": "markdown",
      "metadata": {
        "id": "NZ3a_ZSq0W_V"
      },
      "source": [
        "## B. Classification avec un réseau de neurones convolutionnel"
      ]
    },
    {
      "cell_type": "code",
      "execution_count": 24,
      "metadata": {
        "colab": {
          "base_uri": "https://localhost:8080/"
        },
        "id": "vtHfIj8e0W_W",
        "outputId": "b402a136-85c2-4cd3-f587-adcd2b38085a"
      },
      "outputs": [
        {
          "name": "stdout",
          "output_type": "stream",
          "text": [
            "Epoch 1/6\n",
            "250/250 [==============================] - 40s 145ms/step - loss: 0.5159 - acc: 0.7286 - val_loss: 0.4180 - val_acc: 0.8061\n",
            "Epoch 2/6\n",
            "250/250 [==============================] - 10s 40ms/step - loss: 0.3186 - acc: 0.8625 - val_loss: 0.3353 - val_acc: 0.8556\n",
            "Epoch 3/6\n",
            "250/250 [==============================] - 5s 20ms/step - loss: 0.2494 - acc: 0.8997 - val_loss: 0.3324 - val_acc: 0.8605\n",
            "Epoch 4/6\n",
            "250/250 [==============================] - 4s 16ms/step - loss: 0.1778 - acc: 0.9360 - val_loss: 0.3498 - val_acc: 0.8535\n",
            "Epoch 5/6\n",
            "250/250 [==============================] - 4s 15ms/step - loss: 0.1136 - acc: 0.9656 - val_loss: 0.3859 - val_acc: 0.8512\n",
            "Epoch 6/6\n",
            "250/250 [==============================] - 2s 8ms/step - loss: 0.0606 - acc: 0.9881 - val_loss: 0.4374 - val_acc: 0.8454\n"
          ]
        }
      ],
      "source": [
        "from keras.layers import  Conv1D, MaxPooling1D\n",
        "\n",
        "cnn_model = Sequential()\n",
        "\n",
        "cnn_model.add(Embedding(vocab_size, 100, weights=[embedding_matrix], input_length=maxlen))\n",
        "\n",
        "cnn_model.add(Conv1D(filters=128, kernel_size=5, activation='relu'))\n",
        "\n",
        "cnn_model.add(MaxPooling1D())\n",
        "\n",
        "cnn_model.add(Flatten())\n",
        "\n",
        "cnn_model.add(Dense(units=1, activation='sigmoid'))\n",
        "\n",
        "cnn_model.compile(loss='binary_crossentropy', optimizer='adam', metrics=['acc'])\n",
        "\n",
        "history=cnn_model.fit(X_train, y_train, epochs=6, batch_size=128, verbose=1, validation_split=0.2)\n"
      ]
    },
    {
      "cell_type": "code",
      "execution_count": 25,
      "metadata": {
        "colab": {
          "base_uri": "https://localhost:8080/"
        },
        "id": "HFbXnRPk0W_X",
        "outputId": "f6acc949-2f48-44bc-9140-c8c394d0ab38"
      },
      "outputs": [
        {
          "name": "stdout",
          "output_type": "stream",
          "text": [
            "313/313 [==============================] - 1s 3ms/step - loss: 0.4180 - acc: 0.8475\n",
            "Test Score: 0.41801556944847107\n",
            "Test Accuracy: 0.8475000262260437\n"
          ]
        }
      ],
      "source": [
        "score = cnn_model.evaluate(X_test, y_test, verbose=1)\n",
        "print(\"Test Score:\", score[0])\n",
        "print(\"Test Accuracy:\", score[1])"
      ]
    },
    {
      "cell_type": "code",
      "execution_count": 26,
      "metadata": {
        "colab": {
          "base_uri": "https://localhost:8080/",
          "height": 927
        },
        "id": "oFNMGQ0G0W_X",
        "outputId": "20ba4fa4-5924-4c20-f081-72e47c5a714c"
      },
      "outputs": [
        {
          "data": {
            "image/png": "[encoded data removed]",
            "text/plain": [
              "<Figure size 640x480 with 1 Axes>"
            ]
          },
          "metadata": {},
          "output_type": "display_data"
        },
        {
          "data": {
            "image/png": "[encoded data removed]",
            "text/plain": [
              "<Figure size 640x480 with 1 Axes>"
            ]
          },
          "metadata": {},
          "output_type": "display_data"
        }
      ],
      "source": [
        "plt.plot(history.history['acc'])\n",
        "plt.plot(history.history['val_acc'])\n",
        "plt.title('model accuracy')\n",
        "plt.ylabel('accuracy')\n",
        "plt.xlabel('epoch')\n",
        "plt.legend(['train','test'], loc='upper left')\n",
        "plt.show()\n",
        "plt.plot(history.history['loss'])\n",
        "plt.plot(history.history['val_loss'])\n",
        "plt.title('model loss')\n",
        "plt.ylabel('loss')\n",
        "plt.xlabel('epoch')\n",
        "plt.legend(['train','test'], loc='upper left')\n",
        "plt.show()"
      ]
    },
    {
      "cell_type": "markdown",
      "metadata": {
        "id": "BPBiOEc30W_a"
      },
      "source": [
        "## C. Classification avec un réseau de neurones récurrent (LSTM)"
      ]
    },
    {
      "cell_type": "code",
      "execution_count": 27,
      "metadata": {
        "colab": {
          "base_uri": "https://localhost:8080/"
        },
        "id": "Rnc6JgD70W_a",
        "outputId": "2d4c0934-175d-4b6d-f6a8-7f4f282f0847"
      },
      "outputs": [
        {
          "name": "stdout",
          "output_type": "stream",
          "text": [
            "Epoch 1/6\n",
            "250/250 [==============================] - 36s 135ms/step - loss: 0.4990 - acc: 0.7512 - val_loss: 0.3823 - val_acc: 0.8301\n",
            "Epoch 2/6\n",
            "250/250 [==============================] - 9s 36ms/step - loss: 0.3391 - acc: 0.8559 - val_loss: 0.3228 - val_acc: 0.8620\n",
            "Epoch 3/6\n",
            "250/250 [==============================] - 6s 23ms/step - loss: 0.2861 - acc: 0.8807 - val_loss: 0.3193 - val_acc: 0.8658\n",
            "Epoch 4/6\n",
            "250/250 [==============================] - 5s 20ms/step - loss: 0.2566 - acc: 0.8963 - val_loss: 0.3237 - val_acc: 0.8591\n",
            "Epoch 5/6\n",
            "250/250 [==============================] - 4s 16ms/step - loss: 0.2312 - acc: 0.9079 - val_loss: 0.3428 - val_acc: 0.8565\n",
            "Epoch 6/6\n",
            "250/250 [==============================] - 5s 18ms/step - loss: 0.2059 - acc: 0.9201 - val_loss: 0.3377 - val_acc: 0.8625\n"
          ]
        }
      ],
      "source": [
        "lstm_model = Sequential()\n",
        "\n",
        "lstm_model.add(Embedding(vocab_size, 100, weights=[embedding_matrix], input_length=maxlen))\n",
        "\n",
        "lstm_model.add(LSTM(units=128))\n",
        "\n",
        "lstm_model.add(Dense(units=1, activation='sigmoid'))\n",
        "\n",
        "lstm_model.compile(loss='binary_crossentropy', optimizer='adam', metrics=['acc'])\n",
        "\n",
        "history=lstm_model.fit(X_train, y_train, epochs=6, batch_size=128, verbose=1, validation_split=0.2)"
      ]
    },
    {
      "cell_type": "code",
      "execution_count": 28,
      "metadata": {
        "colab": {
          "base_uri": "https://localhost:8080/"
        },
        "id": "mcOhpdzp0W_d",
        "outputId": "299cbef9-ef69-4581-db36-934e37e4ae46"
      },
      "outputs": [
        {
          "name": "stdout",
          "output_type": "stream",
          "text": [
            "313/313 [==============================] - 2s 5ms/step - loss: 0.3270 - acc: 0.8676\n",
            "Test Score: 0.3270280957221985\n",
            "Test Accuracy: 0.8676000237464905\n"
          ]
        }
      ],
      "source": [
        "score = lstm_model.evaluate(X_test, y_test, verbose=1)\n",
        "print(\"Test Score:\", score[0])\n",
        "print(\"Test Accuracy:\", score[1])"
      ]
    },
    {
      "cell_type": "code",
      "execution_count": 29,
      "metadata": {
        "colab": {
          "base_uri": "https://localhost:8080/",
          "height": 927
        },
        "id": "9VSjuIT-0W_e",
        "outputId": "5bb61212-bb99-4922-ceea-d4dc6ad3abdf"
      },
      "outputs": [
        {
          "data": {
            "image/png": "[encoded data removed]",
            "text/plain": [
              "<Figure size 640x480 with 1 Axes>"
            ]
          },
          "metadata": {},
          "output_type": "display_data"
        },
        {
          "data": {
            "image/png": "[encoded data removed]",
            "text/plain": [
              "<Figure size 640x480 with 1 Axes>"
            ]
          },
          "metadata": {},
          "output_type": "display_data"
        }
      ],
      "source": [
        "plt.plot(history.history['acc'])\n",
        "plt.plot(history.history['val_acc'])\n",
        "plt.title('model accuracy')\n",
        "plt.ylabel('accuracy')\n",
        "plt.xlabel('epoch')\n",
        "plt.legend(['train','test'], loc='upper left')\n",
        "plt.show()\n",
        "plt.plot(history.history['loss'])\n",
        "plt.plot(history.history['val_loss'])\n",
        "plt.title('model loss')\n",
        "plt.ylabel('loss')\n",
        "plt.xlabel('epoch')\n",
        "plt.legend(['train','test'], loc='upper left')\n",
        "plt.show()"
      ]
    },
    {
      "cell_type": "markdown",
      "metadata": {
        "id": "yhJyqkvV0W_f"
      },
      "source": [
        "l'accuracy du 1er classifieur (un simple réseau de neurones):\n",
        "l'accuracy du 2eme classifieur (CNN):\n",
        "l'accuracy du 3eme classifieur (LSTM):\n"
      ]
    },
    {
      "cell_type": "code",
      "execution_count": 30,
      "metadata": {
        "colab": {
          "base_uri": "https://localhost:8080/"
        },
        "id": "89R2X7kw0W_g",
        "outputId": "301afe42-aa78-403c-9429-7c1bbbbdb2e5"
      },
      "outputs": [
        {
          "name": "stdout",
          "output_type": "stream",
          "text": [
            "1/1 [==============================] - 0s 408ms/step\n",
            "Predicted Probability: [[0.00236387]]\n",
            "Predicted Class: 0\n",
            "correct Class: 0\n"
          ]
        },
        {
          "name": "stderr",
          "output_type": "stream",
          "text": [
            "<ipython-input-30-0ded7bee6307>:5: DeprecationWarning: Conversion of an array with ndim > 0 to a scalar is deprecated, and will error in future. Ensure you extract a single element from your array before performing this operation. (Deprecated NumPy 1.25.)\n",
            "  predicted_class = int(np.round(predicted_prob))\n"
          ]
        }
      ],
      "source": [
        "single_input_data = X_test[4]\n",
        "input_data = np.array([single_input_data])\n",
        "predicted_prob = lstm_model.predict(input_data)\n",
        "\n",
        "predicted_class = int(np.round(predicted_prob))\n",
        "\n",
        "print(\"Predicted Probability:\", predicted_prob)\n",
        "print(\"Predicted Class:\", predicted_class)\n",
        "print(\"correct Class:\", y_test[4])"
      ]
    },
    {
      "cell_type": "markdown",
      "metadata": {
        "id": "L5j9je5i0W_h"
      },
      "source": [
        "# comparaison embedding / classifieur"
      ]
    },
    {
      "cell_type": "markdown",
      "metadata": {
        "id": "Ww3aUT5E0W_i"
      },
      "source": [
        "## utils"
      ]
    },
    {
      "cell_type": "code",
      "execution_count": 31,
      "metadata": {
        "id": "WV4lSV-m0W_i"
      },
      "outputs": [],
      "source": [
        "def plot_results(history):\n",
        "  plt.plot(history.history['acc'])\n",
        "  plt.plot(history.history['val_acc'])\n",
        "  plt.title('model accuracy')\n",
        "  plt.ylabel('accuracy')\n",
        "  plt.xlabel('epoch')\n",
        "  plt.legend(['train','test'], loc='upper left')\n",
        "  plt.show()\n",
        "  plt.plot(history.history['loss'])\n",
        "  plt.plot(history.history['val_loss'])\n",
        "  plt.title('model loss')\n",
        "  plt.ylabel('loss')\n",
        "  plt.xlabel('epoch')\n",
        "  plt.legend(['train','test'], loc='upper left')\n",
        "  plt.show()\n",
        "\n",
        "def evaluate_model(model):\n",
        "  score = model.evaluate(X_test, y_test, verbose=0)\n",
        "  print(\"Test Score:\", score[0])\n",
        "  print(\"Test Accuracy:\", score[1])"
      ]
    },
    {
      "cell_type": "markdown",
      "metadata": {
        "id": "ygTs_Wyl_C9W"
      },
      "source": [
        "## models"
      ]
    },
    {
      "cell_type": "code",
      "execution_count": 12,
      "metadata": {
        "id": "RMxinR480W_j"
      },
      "outputs": [],
      "source": [
        "from keras.layers import  GRU\n",
        "\n",
        "from keras.callbacks import EarlyStopping\n",
        "\n",
        "def train_lstm(out_dim):\n",
        "    lstm_model = Sequential()\n",
        "\n",
        "    lstm_model.add(Embedding(vocab_size, out_dim, weights=[embedding_matrix], input_length=maxlen))\n",
        "\n",
        "    lstm_model.add(LSTM(units=128))\n",
        "\n",
        "    lstm_model.add(Dense(units=1, activation='sigmoid'))\n",
        "\n",
        "    lstm_model.compile(loss='binary_crossentropy', optimizer='adam', metrics=['acc'])\n",
        "\n",
        "    early_stopping = EarlyStopping(monitor='val_loss', patience=3, restore_best_weights=True)\n",
        "\n",
        "    history = lstm_model.fit(X_train, y_train, epochs=6, batch_size=128, verbose=1, validation_split=0.2, callbacks=[early_stopping])\n",
        "\n",
        "    return lstm_model, history\n",
        "\n",
        "def train_cnn_rnn(out_dim):\n",
        "    model = Sequential()\n",
        "\n",
        "    model.add(Embedding(vocab_size, out_dim, weights=[embedding_matrix], input_length=maxlen))\n",
        "\n",
        "    model.add(Conv1D(filters=128, kernel_size=5, activation='relu'))\n",
        "\n",
        "    model.add(MaxPooling1D())\n",
        "    model.add(LSTM(units=128))\n",
        "\n",
        "\n",
        "    model.add(Flatten())\n",
        "\n",
        "    model.add(Dense(units=1, activation='sigmoid'))\n",
        "\n",
        "    model.compile(loss='binary_crossentropy', optimizer='adam', metrics=['acc'])\n",
        "\n",
        "    early_stopping = EarlyStopping(monitor='val_loss', patience=3, restore_best_weights=True)\n",
        "\n",
        "    history = model.fit(X_train, y_train, epochs=6, batch_size=128, verbose=1, validation_split=0.2, callbacks=[early_stopping])\n",
        "\n",
        "    return model, history\n",
        "\n",
        "def train_gru(out_dim):\n",
        "    model = Sequential()\n",
        "\n",
        "    model.add(Embedding(vocab_size, out_dim, weights=[embedding_matrix], input_length=maxlen))\n",
        "\n",
        "    model.add(GRU(units=128))\n",
        "\n",
        "    model.add(Flatten())\n",
        "\n",
        "    model.add(Dense(units=1, activation='sigmoid'))\n",
        "\n",
        "    model.compile(loss='binary_crossentropy', optimizer='adam', metrics=['acc'])\n",
        "\n",
        "    early_stopping = EarlyStopping(monitor='val_loss', patience=3, restore_best_weights=True)\n",
        "\n",
        "    history = model.fit(X_train, y_train, epochs=6, batch_size=128, verbose=1, validation_split=0.2, callbacks=[early_stopping])\n",
        "\n",
        "    return model , history\n"
      ]
    },
    {
      "cell_type": "code",
      "execution_count": 33,
      "metadata": {
        "id": "6SO2vjNj0W_k"
      },
      "outputs": [],
      "source": [
        "def experience(out_dim, train ):\n",
        "    model, history= train(out_dim)\n",
        "    plot_results(history)\n",
        "    evaluate_model(model)\n"
      ]
    },
    {
      "cell_type": "code",
      "execution_count": null,
      "metadata": {
        "id": "D1NKbuty0W_l"
      },
      "outputs": [],
      "source": [
        "experience(100, train_cnn_rnn)"
      ]
    },
    {
      "cell_type": "code",
      "execution_count": null,
      "metadata": {
        "id": "uPAufKlt46wK"
      },
      "outputs": [],
      "source": [
        "experience(100, train_gru)"
      ]
    },
    {
      "cell_type": "markdown",
      "metadata": {
        "id": "ds9HPJCV5QHn"
      },
      "source": [
        "pour l'emmbedding avec Glove on a :\n",
        "- lstm: .8655\n",
        "- cnn+ rnn: .8672\n",
        "- gru: .8768\n",
        "\n",
        "\n",
        "\n",
        "\n"
      ]
    },
    {
      "cell_type": "markdown",
      "metadata": {
        "id": "Ecam35LO56Rk"
      },
      "source": [
        "## word2vec"
      ]
    },
    {
      "cell_type": "code",
      "execution_count": null,
      "metadata": {
        "id": "CTJtaE-a55ss"
      },
      "outputs": [],
      "source": [
        "!wget https://media.githubusercontent.com/media/eyaler/word2vec-slim/master/GoogleNews-vectors-negative300-SLIM.bin.gz"
      ]
    },
    {
      "cell_type": "code",
      "execution_count": null,
      "metadata": {
        "id": "NiBISb796FMc"
      },
      "outputs": [],
      "source": [
        "!gunzip /content/GoogleNews-vectors-negative300-SLIM.bin.gz\n"
      ]
    },
    {
      "cell_type": "code",
      "execution_count": null,
      "metadata": {
        "id": "NP25SvBQ6rqO"
      },
      "outputs": [],
      "source": [
        "from gensim.models import KeyedVectors\n",
        "\n",
        "# Load word2vec model\n",
        "word2vec_model = KeyedVectors.load_word2vec_format('/content/GoogleNews-vectors-negative300-SLIM.bin', binary=True)\n",
        "\n",
        "# Create an empty dictionary to store word vectors\n",
        "embeddings_dictionary = {}\n",
        "\n",
        "# Iterate through the word2vec model vocabulary and store word vectors in the dictionary\n",
        "for word in word2vec_model.key_to_index:\n",
        "    embeddings_dictionary[word] = word2vec_model[word]\n",
        "\n",
        "# Initialize the embedding matrix with zeros\n",
        "embedding_matrix = zeros((vocab_size, word2vec_model.vector_size))\n",
        "\n",
        "# Iterate through tokenizer word index and update the embedding matrix with word vectors\n",
        "for word, index in tokenizer.word_index.items():\n",
        "    if word in embeddings_dictionary:\n",
        "        embedding_matrix[index] = embeddings_dictionary[word]\n"
      ]
    },
    {
      "cell_type": "code",
      "execution_count": null,
      "metadata": {
        "id": "hAxJBaOO9ZrN"
      },
      "outputs": [],
      "source": [
        "from scipy.spatial.distance import cosine\n",
        "\n",
        "# Calculate cosine similarity between \"dog\" and \"cat\"\n",
        "dog_embedding = embedding_matrix[tokenizer.word_index[\"dog\"]]\n",
        "cat_embedding = embedding_matrix[tokenizer.word_index[\"cat\"]]\n",
        "similarity = 1 - cosine(dog_embedding, cat_embedding)\n",
        "print(f\"Similarity between 'dog' and 'cat': {similarity:.2f}\")"
      ]
    },
    {
      "cell_type": "code",
      "execution_count": null,
      "metadata": {
        "id": "1dz50rcE-Fau"
      },
      "outputs": [],
      "source": [
        "embedding_matrix.shape[1]"
      ]
    },
    {
      "cell_type": "code",
      "execution_count": null,
      "metadata": {
        "id": "EO8k6Q5E-Xh5"
      },
      "outputs": [],
      "source": [
        "experience(embedding_matrix.shape[1], train_lstm)"
      ]
    },
    {
      "cell_type": "code",
      "execution_count": null,
      "metadata": {
        "id": "jALiWXy6-giB"
      },
      "outputs": [],
      "source": [
        "experience(embedding_matrix.shape[1], train_cnn_rnn)"
      ]
    },
    {
      "cell_type": "code",
      "execution_count": null,
      "metadata": {
        "id": "u_6FCQtm-js8"
      },
      "outputs": [],
      "source": [
        "experience(embedding_matrix.shape[1], train_gru)"
      ]
    },
    {
      "cell_type": "markdown",
      "metadata": {
        "id": "2ytI-HiE-921"
      },
      "source": [
        "| Modèle      | Score    |\n",
        "|-------------|----------|\n",
        "| LSTM        | 0.863   |\n",
        "| CNN + RNN   | 0.872   |\n",
        "| GRU         | 0.861   |\n"
      ]
    },
    {
      "cell_type": "markdown",
      "metadata": {
        "id": "QHS6GPzE_8Z2"
      },
      "source": [
        "##  [fasttext](https://www.kaggle.com/code/vsmolyakov/keras-cnn-with-fasttext-embeddings)"
      ]
    },
    {
      "cell_type": "code",
      "execution_count": null,
      "metadata": {
        "id": "_1DtsYQl-lvy"
      },
      "outputs": [],
      "source": [
        "!wget https://dl.fbaipublicfiles.com/fasttext/vectors-wiki/wiki.en.vec"
      ]
    },
    {
      "cell_type": "code",
      "execution_count": null,
      "metadata": {
        "id": "XgwdUI-bCX4Z"
      },
      "outputs": [],
      "source": [
        "import codecs\n",
        "embeddings_dictionary = {}\n",
        "f = codecs.open('wiki.en.vec', encoding='utf-8')\n",
        "for line in f:\n",
        "    values = line.rstrip().rsplit(' ')\n",
        "    word = values[0]\n",
        "    coef = np.asarray(values[1:], dtype='float32')\n",
        "    embeddings_dictionary[word] = coef\n",
        "f.close()"
      ]
    },
    {
      "cell_type": "code",
      "execution_count": null,
      "metadata": {
        "id": "io7nSM_QsS9n"
      },
      "outputs": [],
      "source": [
        "embedding_matrix = zeros((vocab_size, 300))\n",
        "for word, index in tokenizer.word_index.items():\n",
        "    embedding_vector = embeddings_dictionary.get(word)\n",
        "    if embedding_vector is not None:\n",
        "        if embedding_vector.shape==(0,):\n",
        "          continue\n",
        "        embedding_matrix[index] = embedding_vector"
      ]
    },
    {
      "cell_type": "code",
      "execution_count": null,
      "metadata": {
        "id": "SvM3rVvSuLSg"
      },
      "outputs": [],
      "source": [
        "embedding_matrix[200].shape"
      ]
    },
    {
      "cell_type": "code",
      "execution_count": null,
      "metadata": {
        "id": "67VrylefuZDh"
      },
      "outputs": [],
      "source": [
        "# Calculate cosine similarity between \"dog\" and \"cat\"\n",
        "dog_embedding = embedding_matrix[tokenizer.word_index[\"dog\"]]\n",
        "cat_embedding = embedding_matrix[tokenizer.word_index[\"cat\"]]\n",
        "similarity = 1 - cosine(dog_embedding, cat_embedding)\n",
        "print(f\"Similarity between 'dog' and 'cat': {similarity:.2f}\")"
      ]
    },
    {
      "cell_type": "code",
      "execution_count": null,
      "metadata": {
        "id": "DZEruGUmAhvF"
      },
      "outputs": [],
      "source": [
        "# import fasttext.util\n",
        "\n",
        "# fasttext.util.download_model('en', if_exists='ignore')\n",
        "# ft = fasttext.load_model('cc.en.300.bin')\n",
        "\n"
      ]
    },
    {
      "cell_type": "code",
      "execution_count": null,
      "metadata": {
        "id": "fRqhjdoDDqz0"
      },
      "outputs": [],
      "source": [
        "experience(embedding_matrix.shape[1], train_lstm)"
      ]
    },
    {
      "cell_type": "code",
      "execution_count": null,
      "metadata": {
        "id": "aOHoIhqEGrh_"
      },
      "outputs": [],
      "source": [
        "experience(embedding_matrix.shape[1], train_cnn_rnn)"
      ]
    },
    {
      "cell_type": "code",
      "execution_count": null,
      "metadata": {
        "id": "3czOo10wGu59"
      },
      "outputs": [],
      "source": [
        "experience(embedding_matrix.shape[1], train_gru)"
      ]
    },
    {
      "cell_type": "markdown",
      "metadata": {
        "id": "WYJykW72usoI"
      },
      "source": [
        "| Modèle      | Score    |\n",
        "|-------------|----------|\n",
        "| LSTM        | 0.861   |\n",
        "| CNN + RNN   | 0.873   |\n",
        "| GRU         | 0.874   |\n",
        "\n"
      ]
    },
    {
      "cell_type": "markdown",
      "metadata": {
        "id": "x4nYOXQRJWEI"
      },
      "source": [
        "## TF-IDF"
      ]
    },
    {
      "cell_type": "code",
      "execution_count": 6,
      "metadata": {
        "id": "m9N-qjdMvxc8"
      },
      "outputs": [],
      "source": [
        "from sklearn.feature_extraction.text import TfidfVectorizer\n",
        "\n",
        "tfidf_vectorizer = TfidfVectorizer(max_features=1000)\n",
        "tfidf_matrix = tfidf_vectorizer.fit_transform(X)\n",
        "tfidf_matrix = tfidf_matrix.toarray()"
      ]
    },
    {
      "cell_type": "code",
      "execution_count": 7,
      "metadata": {
        "colab": {
          "base_uri": "https://localhost:8080/"
        },
        "id": "UPErK-PywGxa",
        "outputId": "9bca04ef-456f-4c85-dff8-2c9f7f433fe9"
      },
      "outputs": [
        {
          "data": {
            "text/plain": [
              "(1000,)"
            ]
          },
          "execution_count": 7,
          "metadata": {},
          "output_type": "execute_result"
        }
      ],
      "source": [
        "tfidf_matrix[17].shape"
      ]
    },
    {
      "cell_type": "code",
      "execution_count": 8,
      "metadata": {
        "id": "XjaTK0inwRgF"
      },
      "outputs": [],
      "source": [
        "X_train, X_test, y_train, y_test = train_test_split(tfidf_matrix, y, test_size=0.2, random_state=42)\n"
      ]
    },
    {
      "cell_type": "code",
      "execution_count": 20,
      "metadata": {
        "id": "TBsMmi-mJUYO"
      },
      "outputs": [],
      "source": [
        "from keras.layers import Reshape\n",
        "\n",
        "def train_lstm_with_tfidf(output_dim=128):\n",
        "    lstm_model = Sequential()\n",
        "    lstm_model.add(Dense(64, activation='relu', input_shape=(X_train.shape[1],)))\n",
        "    lstm_model.add(Reshape((64, 1))) \n",
        "\n",
        "    lstm_model.add(LSTM(128))\n",
        "    lstm_model.add(Dense(1, activation='sigmoid'))\n",
        "\n",
        "    lstm_model.compile(loss='binary_crossentropy', optimizer='adam', metrics=['acc'])\n",
        "\n",
        "    early_stopping = EarlyStopping(monitor='val_loss', patience=3, restore_best_weights=True)\n",
        "\n",
        "    history = lstm_model.fit(X_train, y_train, epochs=6, batch_size=128, verbose=1, validation_split=0.2, callbacks=[early_stopping], validation_data=(X_test, y_test))\n",
        "\n",
        "    return lstm_model, history\n",
        "\n",
        "def train_cnn_rnn_with_tfidf(output_dim=128):\n",
        "    model = Sequential()\n",
        "    model.add(Dense(64, activation='relu', input_shape=(X_train.shape[1],)))\n",
        "    model.add(Reshape((64, 1))) \n",
        "    model.add(Conv1D(filters=128, kernel_size=5, activation='relu'))\n",
        "    model.add(MaxPooling1D())\n",
        "    model.add(LSTM(units=128))\n",
        "    model.add(Flatten())\n",
        "    model.add(Dense(units=1, activation='sigmoid'))\n",
        "\n",
        "    model.compile(loss='binary_crossentropy', optimizer='adam', metrics=['acc'])\n",
        "\n",
        "    early_stopping = EarlyStopping(monitor='val_loss', patience=3, restore_best_weights=True)\n",
        "\n",
        "    history = model.fit(X_train, y_train, epochs=6, batch_size=128, verbose=1, validation_split=0.2, callbacks=[early_stopping], validation_data=(X_test, y_test))\n",
        "\n",
        "    return model, history\n",
        "\n",
        "def train_gru_with_tfidf(output_dim=128):\n",
        "\n",
        "    model = Sequential()\n",
        "    model.add(Dense(64, activation='relu', input_shape=(X_train.shape[1],)))\n",
        "    model.add(Reshape((64, 1))) \n",
        "    model.add(GRU(units=128))\n",
        "    model.add(Flatten())\n",
        "    model.add(Dense(units=1, activation='sigmoid'))\n",
        "\n",
        "    model.compile(loss='binary_crossentropy', optimizer='adam', metrics=['acc'])\n",
        "\n",
        "    early_stopping = EarlyStopping(monitor='val_loss', patience=3, restore_best_weights=True)\n",
        "\n",
        "    history = model.fit(X_train, y_train, epochs=6, batch_size=128, verbose=1, validation_split=0.2, callbacks=[early_stopping],  validation_data=(X_test, y_test))\n",
        "\n",
        "    return model , history"
      ]
    },
    {
      "cell_type": "markdown",
      "metadata": {},
      "source": [
        "The embedding layer is typically used when dealing with text data where words are represented as discrete categorical variables. It transforms these variables into continuous vectors that capture semantic meaning. However, in our case, we’re using TF-IDF vectors as input, which are already continuous and capture some level of semantic meaning. Therefore, the embedding layer might not be necessary and could even distort the TF-IDF features."
      ]
    },
    {
      "cell_type": "code",
      "execution_count": 16,
      "metadata": {
        "id": "RKW2vZNrx1Sg"
      },
      "outputs": [
        {
          "name": "stdout",
          "output_type": "stream",
          "text": [
            "Epoch 1/6\n",
            "313/313 [==============================] - 108s 317ms/step - loss: 0.4588 - acc: 0.7935 - val_loss: 0.3167 - val_acc: 0.8658\n",
            "Epoch 2/6\n",
            "313/313 [==============================] - 101s 324ms/step - loss: 0.3122 - acc: 0.8677 - val_loss: 0.3056 - val_acc: 0.8693\n",
            "Epoch 3/6\n",
            "313/313 [==============================] - 127s 406ms/step - loss: 0.3110 - acc: 0.8708 - val_loss: 0.3075 - val_acc: 0.8693\n",
            "Epoch 4/6\n",
            "313/313 [==============================] - 104s 334ms/step - loss: 0.2914 - acc: 0.8789 - val_loss: 0.3128 - val_acc: 0.8670\n",
            "Epoch 5/6\n",
            "313/313 [==============================] - 84s 269ms/step - loss: 0.2754 - acc: 0.8865 - val_loss: 0.3063 - val_acc: 0.8713\n"
          ]
        }
      ],
      "source": [
        "model , history= train_lstm_with_tfidf(128)"
      ]
    },
    {
      "cell_type": "code",
      "execution_count": 17,
      "metadata": {
        "colab": {
          "base_uri": "https://localhost:8080/"
        },
        "id": "Eky-TrYV0fNo",
        "outputId": "37491ed0-4c1e-42b6-9960-db30b63c5f1a"
      },
      "outputs": [
        {
          "name": "stdout",
          "output_type": "stream",
          "text": [
            "313/313 [==============================] - 20s 64ms/step - loss: 0.3056 - acc: 0.8693\n",
            "Test Score: 0.3056498169898987\n",
            "Test Accuracy: 0.8693000078201294\n"
          ]
        }
      ],
      "source": [
        "score = model.evaluate(X_test, y_test, verbose=1)\n",
        "print(\"Test Score:\", score[0])\n",
        "print(\"Test Accuracy:\", score[1])\n"
      ]
    },
    {
      "cell_type": "code",
      "execution_count": 22,
      "metadata": {},
      "outputs": [],
      "source": [
        "from keras.layers import  Conv1D, MaxPooling1D\n"
      ]
    },
    {
      "cell_type": "code",
      "execution_count": 24,
      "metadata": {},
      "outputs": [
        {
          "name": "stdout",
          "output_type": "stream",
          "text": [
            "Epoch 1/6\n",
            "313/313 [==============================] - 63s 165ms/step - loss: 0.3924 - acc: 0.8108 - val_loss: 0.3056 - val_acc: 0.8683\n",
            "Epoch 2/6\n",
            "313/313 [==============================] - 51s 162ms/step - loss: 0.2909 - acc: 0.8807 - val_loss: 0.3035 - val_acc: 0.8692\n",
            "Epoch 3/6\n",
            "313/313 [==============================] - 69s 219ms/step - loss: 0.2595 - acc: 0.8952 - val_loss: 0.3248 - val_acc: 0.8624\n",
            "Epoch 4/6\n",
            "313/313 [==============================] - 52s 165ms/step - loss: 0.2107 - acc: 0.9184 - val_loss: 0.3557 - val_acc: 0.8610\n",
            "Epoch 5/6\n",
            "313/313 [==============================] - 49s 157ms/step - loss: 0.1546 - acc: 0.9439 - val_loss: 0.3556 - val_acc: 0.8548\n",
            "313/313 [==============================] - 7s 22ms/step - loss: 0.3035 - acc: 0.8692\n",
            "Test Score: 0.3035370409488678\n",
            "Test Accuracy: 0.8691999912261963\n"
          ]
        }
      ],
      "source": [
        "model , history= train_cnn_rnn_with_tfidf(128)\n",
        "score = model.evaluate(X_test, y_test, verbose=1)\n",
        "print(\"Test Score:\", score[0])\n",
        "print(\"Test Accuracy:\", score[1])"
      ]
    },
    {
      "cell_type": "code",
      "execution_count": 25,
      "metadata": {},
      "outputs": [
        {
          "name": "stdout",
          "output_type": "stream",
          "text": [
            "Epoch 1/6\n",
            "313/313 [==============================] - 68s 192ms/step - loss: 0.4085 - acc: 0.8030 - val_loss: 0.3023 - val_acc: 0.8690\n",
            "Epoch 2/6\n",
            "313/313 [==============================] - 51s 164ms/step - loss: 0.3035 - acc: 0.8700 - val_loss: 0.2998 - val_acc: 0.8708\n",
            "Epoch 3/6\n",
            "313/313 [==============================] - 52s 167ms/step - loss: 0.2913 - acc: 0.8756 - val_loss: 0.3026 - val_acc: 0.8703\n",
            "Epoch 4/6\n",
            "313/313 [==============================] - 54s 172ms/step - loss: 0.2725 - acc: 0.8862 - val_loss: 0.3027 - val_acc: 0.8688\n",
            "Epoch 5/6\n",
            "313/313 [==============================] - 63s 201ms/step - loss: 0.2410 - acc: 0.8998 - val_loss: 0.3186 - val_acc: 0.8658\n",
            "313/313 [==============================] - 10s 32ms/step - loss: 0.2998 - acc: 0.8708\n",
            "Test Score: 0.2998371720314026\n",
            "Test Accuracy: 0.8708000183105469\n"
          ]
        }
      ],
      "source": [
        "model , history= train_gru_with_tfidf(128)\n",
        "score = model.evaluate(X_test, y_test, verbose=1)\n",
        "print(\"Test Score:\", score[0])\n",
        "print(\"Test Accuracy:\", score[1])"
      ]
    },
    {
      "cell_type": "markdown",
      "metadata": {},
      "source": [
        "| Modèle      | Score    |\n",
        "|-------------|----------|\n",
        "| LSTM        | 0.8693000078201294   |\n",
        "| CNN + RNN   | 0.8691999912261963   |\n",
        "| GRU         | 0.8708000183105469  |\n",
        "\n"
      ]
    },
    {
      "cell_type": "markdown",
      "metadata": {},
      "source": []
    }
  ],
  "metadata": {
    "accelerator": "GPU",
    "colab": {
      "gpuType": "T4",
      "provenance": []
    },
    "kernelspec": {
      "display_name": "Python 3",
      "name": "python3"
    },
    "language_info": {
      "codemirror_mode": {
        "name": "ipython",
        "version": 3
      },
      "file_extension": ".py",
      "mimetype": "text/x-python",
      "name": "python",
      "nbconvert_exporter": "python",
      "pygments_lexer": "ipython3",
      "version": "3.10.9"
    }
  },
  "nbformat": 4,
  "nbformat_minor": 0
}
